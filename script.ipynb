{
 "cells": [
  {
   "cell_type": "code",
   "execution_count": 84,
   "metadata": {},
   "outputs": [],
   "source": [
    "import pandas as pd\n",
    "import csv"
   ]
  },
  {
   "cell_type": "code",
   "execution_count": 85,
   "metadata": {},
   "outputs": [],
   "source": [
    "# Read the CSV file:\n",
    "\n",
    "data = pd.read_csv('IanArffDataset.csv')\n"
   ]
  },
  {
   "cell_type": "code",
   "execution_count": 86,
   "metadata": {},
   "outputs": [],
   "source": [
    "\n",
    "# Create two empty lists to store the data for the attack and binning files:\n",
    "attack_data = []\n",
    "binning_data = []"
   ]
  },
  {
   "cell_type": "code",
   "execution_count": 87,
   "metadata": {},
   "outputs": [],
   "source": [
    "# Loop through the data:\n",
    "for row in data.itertuples():\n",
    "    # If the binary result is 1, add the row to the attack_data list:\n",
    "    if row[19] == 1:\n",
    "        attack_data.append(row)\n",
    "    # Otherwise, add the row to the binning_data list:\n",
    "    else:\n",
    "        binning_data.append(row)"
   ]
  },
  {
   "cell_type": "code",
   "execution_count": 88,
   "metadata": {},
   "outputs": [],
   "source": [
    "# Write the attack data to a file:\n",
    "with open('attack.csv', 'w', newline='') as f:\n",
    "    writer = csv.writer(f)\n",
    "    writer.writerows(attack_data)\n",
    "\n",
    "# Write the binning data to a file:\n",
    "with open('binning.csv', 'w', newline='') as f:\n",
    "    writer = csv.writer(f)\n",
    "    writer.writerows(binning_data)"
   ]
  },
  {
   "cell_type": "code",
   "execution_count": null,
   "metadata": {},
   "outputs": [],
   "source": [
    "attack = pd.read_csv('attack.csv')"
   ]
  },
  {
   "cell_type": "code",
   "execution_count": null,
   "metadata": {},
   "outputs": [],
   "source": [
    "\n",
    "# Create seven empty lists to store the data for the attack categories:\n",
    "cat1 = []\n",
    "cat2 = []\n",
    "cat3 = []\n",
    "cat4 = []\n",
    "cat5 = []\n",
    "cat6 = []\n",
    "cat7 = []\n"
   ]
  },
  {
   "cell_type": "code",
   "execution_count": null,
   "metadata": {},
   "outputs": [],
   "source": [
    "# Loop through the data:\n",
    "for row in attack.itertuples():\n",
    "    if row[20] == 1:\n",
    "        cat1.append(row)\n",
    "    elif row[20] == 2:\n",
    "        cat2.append(row)\n",
    "    elif row[20] == 3:\n",
    "        cat3.append(row)\n",
    "    elif row[20] == 4:\n",
    "        cat4.append(row)\n",
    "    elif row[20] == 5:\n",
    "        cat5.append(row)\n",
    "    elif row[20] == 6:\n",
    "        cat6.append(row)\n",
    "    else:\n",
    "        cat7.append(row)"
   ]
  },
  {
   "cell_type": "code",
   "execution_count": null,
   "metadata": {},
   "outputs": [],
   "source": [
    "with open('category1.csv', 'w', newline='') as f:\n",
    "    writer = csv.writer(f)\n",
    "    writer.writerows(attack_data)\n",
    "\n",
    "with open('category2.csv', 'w', newline='') as f:\n",
    "    writer = csv.writer(f)\n",
    "    writer.writerows(attack_data)\n",
    "\n",
    "with open('category3.csv', 'w', newline='') as f:\n",
    "    writer = csv.writer(f)\n",
    "    writer.writerows(attack_data)\n",
    "\n",
    "with open('category4.csv', 'w', newline='') as f:\n",
    "    writer = csv.writer(f)\n",
    "    writer.writerows(attack_data)\n",
    "\n",
    "with open('category5.csv', 'w', newline='') as f:\n",
    "    writer = csv.writer(f)\n",
    "    writer.writerows(attack_data)\n",
    "\n",
    "with open('category6.csv', 'w', newline='') as f:\n",
    "    writer = csv.writer(f)\n",
    "    writer.writerows(attack_data)\n",
    "\n",
    "with open('category7.csv', 'w', newline='') as f:\n",
    "    writer = csv.writer(f)\n",
    "    writer.writerows(attack_data)\n"
   ]
  }
 ],
 "metadata": {
  "kernelspec": {
   "display_name": "Python 3",
   "language": "python",
   "name": "python3"
  },
  "language_info": {
   "codemirror_mode": {
    "name": "ipython",
    "version": 3
   },
   "file_extension": ".py",
   "mimetype": "text/x-python",
   "name": "python",
   "nbconvert_exporter": "python",
   "pygments_lexer": "ipython3",
   "version": "3.9.2"
  },
  "orig_nbformat": 4
 },
 "nbformat": 4,
 "nbformat_minor": 2
}
